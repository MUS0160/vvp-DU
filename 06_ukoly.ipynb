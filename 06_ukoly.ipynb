{
 "cells": [
  {
   "attachments": {},
   "cell_type": "markdown",
   "metadata": {},
   "source": [
    "# Úkoly\n",
    "\n",
    "## Indexování a řezání\n",
    "\n",
    "- Vytvořte NumPy pole s názvem `a` obsahující čísla od 1 do 10.\n",
    "- Vytvořte 2D NumPy pole s názvem `b` o rozměrech 3x3 a naplňte ho libovolnými čísly.\n"
   ]
  },
  {
   "cell_type": "code",
   "execution_count": 2,
   "metadata": {},
   "outputs": [
    {
     "name": "stdout",
     "output_type": "stream",
     "text": [
      "[ 1  2  3  4  5  6  7  8  9 10]\n",
      "[[36 38  8]\n",
      " [16 11 36]\n",
      " [35 27 13]]\n"
     ]
    }
   ],
   "source": [
    "import numpy as np\n",
    "a = np.arange(1,11,1)\n",
    "print(a)\n",
    "b = np.random.randint(0,50, (3,3))\n",
    "print(b)"
   ]
  },
  {
   "cell_type": "markdown",
   "metadata": {},
   "source": [
    "\n",
    "1. Vyberte z pole `a` třetí a čtvrtý prvek.\n"
   ]
  },
  {
   "cell_type": "code",
   "execution_count": 3,
   "metadata": {},
   "outputs": [
    {
     "name": "stdout",
     "output_type": "stream",
     "text": [
      "[3 4]\n"
     ]
    }
   ],
   "source": [
    "print(a[2:4])"
   ]
  },
  {
   "cell_type": "markdown",
   "metadata": {},
   "source": [
    "\n",
    "2. Vyberte z pole `a` všechny sudá čísla.\n"
   ]
  },
  {
   "cell_type": "code",
   "execution_count": 4,
   "metadata": {},
   "outputs": [
    {
     "name": "stdout",
     "output_type": "stream",
     "text": [
      "[ 2  4  6  8 10]\n"
     ]
    }
   ],
   "source": [
    "print(a[1::2])"
   ]
  },
  {
   "cell_type": "markdown",
   "metadata": {},
   "source": [
    "\n",
    "3. Obraťte vektor `a` (první prvek se stane posledním).\n"
   ]
  },
  {
   "cell_type": "code",
   "execution_count": 5,
   "metadata": {},
   "outputs": [
    {
     "name": "stdout",
     "output_type": "stream",
     "text": [
      "[10  9  8  7  6  5  4  3  2  1]\n"
     ]
    }
   ],
   "source": [
    "print(a[::-1])"
   ]
  },
  {
   "cell_type": "markdown",
   "metadata": {},
   "source": [
    "\n",
    "5. Vyberte z pole `b` druhý řádek.\n"
   ]
  },
  {
   "cell_type": "code",
   "execution_count": 6,
   "metadata": {},
   "outputs": [
    {
     "name": "stdout",
     "output_type": "stream",
     "text": [
      "[[36 38  8]\n",
      " [16 11 36]\n",
      " [35 27 13]]\n",
      "---------------\n",
      "[16 11 36]\n"
     ]
    }
   ],
   "source": [
    "print(b)\n",
    "print(\"---------------\")\n",
    "print(b[1,:])"
   ]
  },
  {
   "cell_type": "markdown",
   "metadata": {},
   "source": [
    "\n",
    "6. Vyberte z pole `b` diagonální prvky.\n"
   ]
  },
  {
   "cell_type": "code",
   "execution_count": 7,
   "metadata": {},
   "outputs": [
    {
     "name": "stdout",
     "output_type": "stream",
     "text": [
      "[36 11 13]\n"
     ]
    }
   ],
   "source": [
    "print(np.diag(b))"
   ]
  },
  {
   "cell_type": "markdown",
   "metadata": {},
   "source": [
    "\n",
    "7. Změňte hodnotu prvku na druhém řádku, prvním sloupci v `b` na 100.\n"
   ]
  },
  {
   "cell_type": "code",
   "execution_count": 8,
   "metadata": {},
   "outputs": [
    {
     "name": "stdout",
     "output_type": "stream",
     "text": [
      "[[36 38  8]\n",
      " [16 11 36]\n",
      " [35 27 13]]\n",
      "---------------\n",
      "[[ 36  38   8]\n",
      " [100  11  36]\n",
      " [ 35  27  13]]\n",
      "---------------\n"
     ]
    }
   ],
   "source": [
    "print(b)\n",
    "print(\"---------------\")\n",
    "b[1,0] = 100\n",
    "print(b)\n",
    "print(\"---------------\")\n"
   ]
  },
  {
   "cell_type": "markdown",
   "metadata": {},
   "source": [
    "\n",
    "8. Vyberte z pole `b` všechny prvky větší než 5.\n"
   ]
  },
  {
   "cell_type": "code",
   "execution_count": 9,
   "metadata": {},
   "outputs": [
    {
     "name": "stdout",
     "output_type": "stream",
     "text": [
      "[ 36  38   8 100  11  36  35  27  13]\n"
     ]
    }
   ],
   "source": [
    "b1 = b[b>5]\n",
    "print(b1)"
   ]
  },
  {
   "cell_type": "markdown",
   "metadata": {},
   "source": [
    "\n",
    "9. Vytvořte masku pro pole `b`, která bude True pro všechny prvky menší než 3.\n"
   ]
  },
  {
   "cell_type": "code",
   "execution_count": 10,
   "metadata": {},
   "outputs": [
    {
     "name": "stdout",
     "output_type": "stream",
     "text": [
      "[[ 36  38   8]\n",
      " [100  11  36]\n",
      " [ 35  27  13]]\n",
      "--------------\n",
      "[[False False False]\n",
      " [False False False]\n",
      " [False False False]]\n"
     ]
    }
   ],
   "source": [
    "print(b)\n",
    "print(\"--------------\")\n",
    "bmask = b<3\n",
    "print(bmask)"
   ]
  },
  {
   "cell_type": "markdown",
   "metadata": {},
   "source": [
    "\n",
    "10. Pomocí masky vyberte z pole `b` všechny prvky menší než 3.\n",
    "\n",
    "\n"
   ]
  },
  {
   "cell_type": "code",
   "execution_count": 11,
   "metadata": {},
   "outputs": [
    {
     "name": "stdout",
     "output_type": "stream",
     "text": [
      "[]\n"
     ]
    }
   ],
   "source": [
    "b2 = b[bmask]\n",
    "print(b2)"
   ]
  },
  {
   "cell_type": "markdown",
   "metadata": {},
   "source": [
    "\n",
    "## View a copy\n",
    "\n",
    "- Vytvořte NumPy pole s názvem `a` a naplňte ho libovolnými čísly.\n"
   ]
  },
  {
   "cell_type": "code",
   "execution_count": 12,
   "metadata": {},
   "outputs": [
    {
     "name": "stdout",
     "output_type": "stream",
     "text": [
      "[[60 91 97 42 10 30 24 71 67 30]\n",
      " [78 87 25 21 81 35 32 18 29 75]\n",
      " [37 24 91 63 88 25 12  2 32 50]\n",
      " [60 49 98 18 42  1 18 33 40 69]\n",
      " [80 44 35 14 83 91 21 22 84 60]\n",
      " [53 75  8  6  4 63 65 16 98 40]\n",
      " [52 59  6 50 97 40 39 57 25 82]\n",
      " [30 45 52 33 10 35 74 26 20 15]\n",
      " [18 36 87 17 22 38  2 17 21 26]\n",
      " [21 71 49 16 64 88 24 88 46 11]]\n"
     ]
    }
   ],
   "source": [
    "a = np.random.randint(0,100,(10,10))\n",
    "print(a)"
   ]
  },
  {
   "cell_type": "markdown",
   "metadata": {},
   "source": [
    "\n",
    "1. Pomocí `a` vytvořte proměnnou `b` obsahující řez druhého řádku a všech sloupců pole `a`.\n"
   ]
  },
  {
   "cell_type": "code",
   "execution_count": 13,
   "metadata": {},
   "outputs": [
    {
     "name": "stdout",
     "output_type": "stream",
     "text": [
      "[78 87 25 21 81 35 32 18 29 75]\n"
     ]
    }
   ],
   "source": [
    "b = a[1,:]\n",
    "print(b)"
   ]
  },
  {
   "cell_type": "markdown",
   "metadata": {},
   "source": [
    "\n",
    "3. Změňte hodnotu prvního prvku v `b`. Jak se tato změna projeví v `a`?\n"
   ]
  },
  {
   "cell_type": "code",
   "execution_count": 14,
   "metadata": {},
   "outputs": [
    {
     "name": "stdout",
     "output_type": "stream",
     "text": [
      "[100  87  25  21  81  35  32  18  29  75]\n",
      "----------------------\n",
      "[[ 60  91  97  42  10  30  24  71  67  30]\n",
      " [100  87  25  21  81  35  32  18  29  75]\n",
      " [ 37  24  91  63  88  25  12   2  32  50]\n",
      " [ 60  49  98  18  42   1  18  33  40  69]\n",
      " [ 80  44  35  14  83  91  21  22  84  60]\n",
      " [ 53  75   8   6   4  63  65  16  98  40]\n",
      " [ 52  59   6  50  97  40  39  57  25  82]\n",
      " [ 30  45  52  33  10  35  74  26  20  15]\n",
      " [ 18  36  87  17  22  38   2  17  21  26]\n",
      " [ 21  71  49  16  64  88  24  88  46  11]]\n"
     ]
    }
   ],
   "source": [
    "b[0] = 100\n",
    "print(b)\n",
    "print(\"----------------------\")\n",
    "print(a)"
   ]
  },
  {
   "cell_type": "markdown",
   "metadata": {},
   "source": [
    "\n",
    "4. Vytvořte proměnnou `c` obsahující **kopii** druhého řádku pole `a`.\n"
   ]
  },
  {
   "cell_type": "code",
   "execution_count": 15,
   "metadata": {},
   "outputs": [
    {
     "name": "stdout",
     "output_type": "stream",
     "text": [
      "[100  87  25  21  81  35  32  18  29  75]\n"
     ]
    }
   ],
   "source": [
    "c = np.copy(a[1,:])\n",
    "print(c)"
   ]
  },
  {
   "cell_type": "markdown",
   "metadata": {},
   "source": [
    "\n",
    "5. Změňte hodnotu prvního prvku v `c`. Jak se tato změna projeví v `a`?\n"
   ]
  },
  {
   "cell_type": "code",
   "execution_count": 16,
   "metadata": {},
   "outputs": [
    {
     "name": "stdout",
     "output_type": "stream",
     "text": [
      "[200  87  25  21  81  35  32  18  29  75]\n",
      "----------------------\n",
      "[[ 60  91  97  42  10  30  24  71  67  30]\n",
      " [100  87  25  21  81  35  32  18  29  75]\n",
      " [ 37  24  91  63  88  25  12   2  32  50]\n",
      " [ 60  49  98  18  42   1  18  33  40  69]\n",
      " [ 80  44  35  14  83  91  21  22  84  60]\n",
      " [ 53  75   8   6   4  63  65  16  98  40]\n",
      " [ 52  59   6  50  97  40  39  57  25  82]\n",
      " [ 30  45  52  33  10  35  74  26  20  15]\n",
      " [ 18  36  87  17  22  38   2  17  21  26]\n",
      " [ 21  71  49  16  64  88  24  88  46  11]]\n"
     ]
    }
   ],
   "source": [
    "c[0] = 200\n",
    "print(c)\n",
    "print(\"----------------------\")\n",
    "print(a)"
   ]
  },
  {
   "cell_type": "markdown",
   "metadata": {},
   "source": [
    "\n",
    "6. Zjistěte, zda `b` a `c` sdílí stejná data v paměti.\n"
   ]
  },
  {
   "cell_type": "code",
   "execution_count": 17,
   "metadata": {},
   "outputs": [
    {
     "name": "stdout",
     "output_type": "stream",
     "text": [
      "a.base:  94846679282656\n",
      "b.base:  140629497915760\n",
      "c.base:  94846679282656\n",
      "False\n"
     ]
    }
   ],
   "source": [
    "print(\"a.base: \", id(a.base))\n",
    "print(\"b.base: \", id(b.base))\n",
    "print(\"c.base: \", id(c.base))\n",
    "print(b is c.base)"
   ]
  },
  {
   "cell_type": "markdown",
   "metadata": {},
   "source": [
    "\n",
    "7. Vytvořte proměnnou `d` obsahující diagonální prvky pole `a`.\n"
   ]
  },
  {
   "cell_type": "code",
   "execution_count": 18,
   "metadata": {},
   "outputs": [
    {
     "name": "stdout",
     "output_type": "stream",
     "text": [
      "[60 87 91 18 83 63 39 26 21 11]\n"
     ]
    }
   ],
   "source": [
    "d = np.copy(np.diag(a))\n",
    "print(d)"
   ]
  },
  {
   "cell_type": "markdown",
   "metadata": {},
   "source": [
    "\n",
    "8. Změňte hodnotu prvního diagonálního prvku v `d`. Jak se tato změna projeví v `a`?\n",
    "\n"
   ]
  },
  {
   "cell_type": "code",
   "execution_count": 19,
   "metadata": {},
   "outputs": [
    {
     "name": "stdout",
     "output_type": "stream",
     "text": [
      "  C_CONTIGUOUS : True\n",
      "  F_CONTIGUOUS : True\n",
      "  OWNDATA : True\n",
      "  WRITEABLE : True\n",
      "  ALIGNED : True\n",
      "  WRITEBACKIFCOPY : False\n",
      "  UPDATEIFCOPY : False\n",
      "\n",
      "[[ 60  91  97  42  10  30  24  71  67  30]\n",
      " [100  87  25  21  81  35  32  18  29  75]\n",
      " [ 37  24  91  63  88  25  12   2  32  50]\n",
      " [ 60  49  98  18  42   1  18  33  40  69]\n",
      " [ 80  44  35  14  83  91  21  22  84  60]\n",
      " [ 53  75   8   6   4  63  65  16  98  40]\n",
      " [ 52  59   6  50  97  40  39  57  25  82]\n",
      " [ 30  45  52  33  10  35  74  26  20  15]\n",
      " [ 18  36  87  17  22  38   2  17  21  26]\n",
      " [ 21  71  49  16  64  88  24  88  46  11]]\n"
     ]
    }
   ],
   "source": [
    "print(d.flags)\n",
    "d[0] = 300\n",
    "print(a)\n"
   ]
  },
  {
   "cell_type": "markdown",
   "metadata": {},
   "source": [
    "9. Vytvořte proměnnou `e` obsahující transpozici pole `a`. Jak je to s pamětí, jedná se o kopii nebo o \"array view\" ověřte pomocí atributu base.\n"
   ]
  },
  {
   "cell_type": "code",
   "execution_count": 20,
   "metadata": {},
   "outputs": [
    {
     "name": "stdout",
     "output_type": "stream",
     "text": [
      "[[ 60  91  97  42  10  30  24  71  67  30]\n",
      " [100  87  25  21  81  35  32  18  29  75]\n",
      " [ 37  24  91  63  88  25  12   2  32  50]\n",
      " [ 60  49  98  18  42   1  18  33  40  69]\n",
      " [ 80  44  35  14  83  91  21  22  84  60]\n",
      " [ 53  75   8   6   4  63  65  16  98  40]\n",
      " [ 52  59   6  50  97  40  39  57  25  82]\n",
      " [ 30  45  52  33  10  35  74  26  20  15]\n",
      " [ 18  36  87  17  22  38   2  17  21  26]\n",
      " [ 21  71  49  16  64  88  24  88  46  11]]\n",
      "-----------------\n",
      "[[ 60 100  37  60  80  53  52  30  18  21]\n",
      " [ 91  87  24  49  44  75  59  45  36  71]\n",
      " [ 97  25  91  98  35   8   6  52  87  49]\n",
      " [ 42  21  63  18  14   6  50  33  17  16]\n",
      " [ 10  81  88  42  83   4  97  10  22  64]\n",
      " [ 30  35  25   1  91  63  40  35  38  88]\n",
      " [ 24  32  12  18  21  65  39  74   2  24]\n",
      " [ 71  18   2  33  22  16  57  26  17  88]\n",
      " [ 67  29  32  40  84  98  25  20  21  46]\n",
      " [ 30  75  50  69  60  40  82  15  26  11]]\n",
      "-----------------\n",
      "  C_CONTIGUOUS : False\n",
      "  F_CONTIGUOUS : True\n",
      "  OWNDATA : False\n",
      "  WRITEABLE : True\n",
      "  ALIGNED : True\n",
      "  WRITEBACKIFCOPY : False\n",
      "  UPDATEIFCOPY : False\n",
      "\n"
     ]
    }
   ],
   "source": [
    "e = a.T\n",
    "print(a)\n",
    "print(\"-----------------\")\n",
    "print(e)\n",
    "print(\"-----------------\")\n",
    "print(e.flags)"
   ]
  },
  {
   "cell_type": "markdown",
   "metadata": {},
   "source": [
    "\n",
    "\n",
    "## Lineární algebra\n",
    "\n",
    "1. Vynásobte matici 5x3 maticí 3x2 (maticový součin).\n"
   ]
  },
  {
   "cell_type": "code",
   "execution_count": 21,
   "metadata": {},
   "outputs": [
    {
     "name": "stdout",
     "output_type": "stream",
     "text": [
      "-----------------------\n",
      "[[6 0 5]\n",
      " [0 8 4]\n",
      " [6 6 8]\n",
      " [3 2 8]\n",
      " [8 4 9]]\n",
      "-----------------------\n",
      "[[5 6]\n",
      " [7 2]\n",
      " [2 0]]\n",
      "-----------------------\n",
      "[[40 36]\n",
      " [64 16]\n",
      " [88 48]\n",
      " [45 22]\n",
      " [86 56]]\n"
     ]
    }
   ],
   "source": [
    "A = np.random.randint(0,10,(5,3))\n",
    "B = np.random.randint(0,10,(3,2))\n",
    "print(\"-----------------------\")\n",
    "print(A)\n",
    "print(\"-----------------------\")\n",
    "print(B)\n",
    "C = A@B\n",
    "print(\"-----------------------\")\n",
    "print(C)"
   ]
  },
  {
   "cell_type": "markdown",
   "metadata": {},
   "source": [
    "2. Vezměme náhodnou matici 10x2 představující kartézské souřadnice, převeďte je na polární souřadnice.\n"
   ]
  },
  {
   "cell_type": "code",
   "execution_count": 22,
   "metadata": {},
   "outputs": [
    {
     "name": "stdout",
     "output_type": "stream",
     "text": [
      "[[0.25577087 0.98483416]\n",
      " [0.83887074 0.81073112]\n",
      " [0.24123351 0.81304609]\n",
      " [0.96081827 0.67599052]\n",
      " [0.33980838 0.27264528]\n",
      " [0.86967116 0.55203224]\n",
      " [0.27290006 0.21640475]\n",
      " [0.02835515 0.20231281]\n",
      " [0.81494329 0.19463863]\n",
      " [0.68139015 0.05008172]]\n",
      "-------------------\n",
      "[[1.01750531 1.31670032]\n",
      " [1.16661437 0.76834139]\n",
      " [0.84807874 1.2823667 ]\n",
      " [1.17479144 0.61310929]\n",
      " [0.43566637 0.67617227]\n",
      " [1.03008132 0.56558679]\n",
      " [0.34828933 0.6704468 ]\n",
      " [0.2042902  1.4315484 ]\n",
      " [0.8378644  0.23444505]\n",
      " [0.68322816 0.07336741]]\n"
     ]
    }
   ],
   "source": [
    "def polCoor(x,y):\n",
    "    absV =np.sqrt(x*x+y*y)\n",
    "    phi = np.arctan2(y,x)\n",
    "    return absV,phi\n",
    "\n",
    "polCoor_v = np.vectorize(polCoor)\n",
    "\n",
    "Cart = np.random.rand(10,2)\n",
    "x,y = Cart[:,0], Cart[:,1]\n",
    "\n",
    "Pol = np.zeros((10,2))\n",
    "Pol[:,0], Pol[:,1] = polCoor_v(x,y)\n",
    "print(Cart)\n",
    "print(\"-------------------\")\n",
    "print(Pol)"
   ]
  },
  {
   "cell_type": "markdown",
   "metadata": {},
   "source": [
    "3. Vzhledem ke dvěma polím X a Y zkonstruujte Cauchyho matici C (Cij =1/(xi - yj)).\n"
   ]
  },
  {
   "cell_type": "code",
   "execution_count": 30,
   "metadata": {},
   "outputs": [
    {
     "name": "stdout",
     "output_type": "stream",
     "text": [
      "[78 99  7 35 76]\n",
      "--------------------\n",
      "[89 47 89 65 20]\n",
      "--------------------\n",
      "[[-0.09090909  0.03225806 -0.09090909  0.07692308  0.01724138]\n",
      " [ 0.1         0.01923077  0.1         0.02941176  0.01265823]\n",
      " [-0.01219512 -0.025      -0.01219512 -0.01724138 -0.07692308]\n",
      " [-0.01851852 -0.08333333 -0.01851852 -0.03333333  0.06666667]\n",
      " [-0.07692308  0.03448276 -0.07692308  0.09090909  0.01785714]]\n"
     ]
    }
   ],
   "source": [
    "x = np.random.randint(1,100,5)\n",
    "y = np.random.randint(1,100,5)\n",
    "\n",
    "xIndx = np.array( [[x[m] for n in range(x.shape[0])] for m in range(y.shape[0])] )\n",
    "yIndx = np.array( [ [y[n] for n in range(x.shape[0])] for m in range(y.shape[0])] )\n",
    "\n",
    "C = 1/(xIndx-yIndx)\n",
    "print(C)\n"
   ]
  },
  {
   "cell_type": "markdown",
   "metadata": {},
   "source": [
    "4. Uvažujme náhodný vektor o tvaru (100,2) představující souřadnice, najděte vzdálenosti bod po bodu.\n"
   ]
  },
  {
   "cell_type": "code",
   "execution_count": 73,
   "metadata": {},
   "outputs": [
    {
     "name": "stdout",
     "output_type": "stream",
     "text": [
      "[[3 7]\n",
      " [6 7]\n",
      " [1 5]\n",
      " [7 6]\n",
      " [5 7]]\n",
      "--------------------\n",
      "[7.61577311 9.21954446 5.09901951 9.21954446 8.60232527]\n"
     ]
    }
   ],
   "source": [
    "coor = np.random.randint(0,10,(5,2))\n",
    "print(coor)\n",
    "print(\"--------------------\")\n",
    "\n",
    "def dist(x,y):\n",
    "    return np.sqrt(x*x+y*y)\n",
    "\n",
    "dist_v = np.vectorize(dist)\n",
    "\n",
    "distList = dist_v(coor[:,0], coor[:,1])\n",
    "print(distList)\n"
   ]
  },
  {
   "cell_type": "markdown",
   "metadata": {},
   "source": [
    "5. Ověřte empiricky na náhodné matici, že platí $(AB)^T = B^T A^T$\n"
   ]
  },
  {
   "cell_type": "code",
   "execution_count": 76,
   "metadata": {},
   "outputs": [
    {
     "name": "stdout",
     "output_type": "stream",
     "text": [
      "True\n"
     ]
    }
   ],
   "source": [
    "A = np.random.randint(1,100,(10,10))\n",
    "B = np.random.randint(1,100,(10,10))\n",
    "ABT = (A@B).T\n",
    "ATBT = (B.T)@(A.T)\n",
    "if(ABT == ATBT).all():\n",
    "    print(True)\n"
   ]
  },
  {
   "cell_type": "markdown",
   "metadata": {},
   "source": [
    "6. Pro náhodné 1D vektory $u, v$ vypočítejte dyadický součin $uv$ $$(uv)_{ij} = u_iv_j$$ pomocí `newaxis`. Zkontrolujte s `np.outer(u, v)`\n"
   ]
  },
  {
   "cell_type": "code",
   "execution_count": 83,
   "metadata": {},
   "outputs": [
    {
     "name": "stdout",
     "output_type": "stream",
     "text": [
      "[[2409 1752 6789  365 6643]\n",
      " [ 825  600 2325  125 2275]\n",
      " [  66   48  186   10  182]\n",
      " [1419 1032 3999  215 3913]\n",
      " [ 363  264 1023   55 1001]]\n",
      "-------------------\n",
      "[[2409 1752 6789  365 6643]\n",
      " [ 825  600 2325  125 2275]\n",
      " [  66   48  186   10  182]\n",
      " [1419 1032 3999  215 3913]\n",
      " [ 363  264 1023   55 1001]]\n"
     ]
    }
   ],
   "source": [
    "u = np.random.randint(1,100,5)\n",
    "v = np.random.randint(1,100,5) \n",
    "ur = u[:,np.newaxis]\n",
    "vc = v[np.newaxis,:]\n",
    "A = ur@vc\n",
    "B = np.outer(u,v)\n",
    "print(A)\n",
    "print(\"-------------------\")\n",
    "print(B)\n"
   ]
  },
  {
   "cell_type": "markdown",
   "metadata": {},
   "source": [
    "7. Vypočítejte hodnost matice o velikosti 5x6 naplněnou hodnotami 0, 1, 2, 3 ... . Byly by jste schopni zdůvodnit proč je hodnost taková jaká je?\n"
   ]
  },
  {
   "cell_type": "code",
   "execution_count": 31,
   "metadata": {},
   "outputs": [
    {
     "name": "stdout",
     "output_type": "stream",
     "text": [
      "[ 0  1  2  3  4  5  6  7  8  9 10 11 12 13 14 15 16 17 18 19 20 21 22 23\n",
      " 24 25 26 27 28 29]\n",
      "[[ 0  1  2  3  4  5]\n",
      " [ 6  7  8  9 10 11]\n",
      " [12 13 14 15 16 17]\n",
      " [18 19 20 21 22 23]\n",
      " [24 25 26 27 28 29]]\n",
      "2\n"
     ]
    }
   ],
   "source": [
    "u = np.arange(0,30,1)\n",
    "print(u)\n",
    "u =  u.reshape((5,6))\n",
    "print(u)\n",
    "print(np.linalg.matrix_rank(u))"
   ]
  },
  {
   "cell_type": "markdown",
   "metadata": {},
   "source": [
    "\n",
    "## Funkce nad poli\n",
    "1. Vytvořte pole 10x10 s náhodnými hodnotami a najděte minimální a maximální hodnoty.\n"
   ]
  },
  {
   "cell_type": "code",
   "execution_count": 93,
   "metadata": {},
   "outputs": [
    {
     "name": "stdout",
     "output_type": "stream",
     "text": [
      "[[46 61 14 68  1 19 60 59 78 37]\n",
      " [64  2 42 60 11 78 77 27 52 16]\n",
      " [30 44 89 35 92 50 17 42 29  8]\n",
      " [18 63 42 86 98 21 62 65 94 16]\n",
      " [39 64 25 58  2  8 64 64 31 65]\n",
      " [84 53 59 86 35 49 62 99 46 21]\n",
      " [42  2 27 72 83 69 30 23 87  7]\n",
      " [57  6 28 42 66 32  7 87 71 85]\n",
      " [52  5 12 18 98 94 97 25 29 35]\n",
      " [73 38 88 31  6 78 81  2 90 39]]\n",
      "1\n",
      "99\n"
     ]
    }
   ],
   "source": [
    "data = np.random.randint(1,100,(10,10))\n",
    "print(data)\n",
    "print(data.min())\n",
    "print(data.max())"
   ]
  },
  {
   "cell_type": "markdown",
   "metadata": {},
   "source": [
    "2. Vytvořte náhodný vektor o velikosti 30 a najděte střední hodnotu.\n",
    "\n"
   ]
  },
  {
   "cell_type": "code",
   "execution_count": 96,
   "metadata": {},
   "outputs": [
    {
     "name": "stdout",
     "output_type": "stream",
     "text": [
      "[68 31 77 88 20 20 63 85 48 16 93 10 90 54 30 54 55  7 42 48 63 34 42 94\n",
      " 35 17 47  4 38 36]\n",
      "28.552581319383364\n"
     ]
    }
   ],
   "source": [
    "vec = np.random.randint(1,100, 30)\n",
    "print(vec)\n",
    "print(np.std(data))"
   ]
  },
  {
   "cell_type": "markdown",
   "metadata": {},
   "source": [
    "3. Uvažujme celočíselný vektor Z, které z těchto výrazů jsou platné?\n",
    "   ```python\n",
    "   Z**Z\n",
    "   2 << Z >> 2\n",
    "   Z <- Z\n",
    "   1j*Z\n",
    "   Z/1/1\n",
    "   Z<Z>Z\n",
    "   ```\n",
    "\n"
   ]
  },
  {
   "cell_type": "code",
   "execution_count": 36,
   "metadata": {},
   "outputs": [
    {
     "data": {
      "text/plain": [
       "array([ True,  True,  True,  True,  True,  True,  True,  True,  True,\n",
       "        True])"
      ]
     },
     "execution_count": 36,
     "metadata": {},
     "output_type": "execute_result"
    }
   ],
   "source": [
    "b = np.arange(1,11,1)\n"
   ]
  },
  {
   "cell_type": "markdown",
   "metadata": {},
   "source": [
    "4. Jaký je výsledek následujícího výrazu? \n",
    "   ```python\n",
    "   0 * np.nan\n",
    "   np.nan == np.nan\n",
    "   np.inf > np.nan\n",
    "   np.nan - np.nan\n",
    "   np.nan in set([np.nan])\n",
    "   0.3 == 3 * 0.1\n",
    "   ```\n"
   ]
  },
  {
   "cell_type": "markdown",
   "metadata": {},
   "source": []
  },
  {
   "cell_type": "markdown",
   "metadata": {},
   "source": [
    "5. Jaké jsou výsledky následujících výrazů?\n",
    "   ```python\n",
    "   np.array(0) / np.array(0)\n",
    "   np.array(0) // np.array(0)\n",
    "   np.array([np.nan]).astype(int).astype(float)\n",
    "   ```\n"
   ]
  },
  {
   "cell_type": "code",
   "execution_count": null,
   "metadata": {},
   "outputs": [],
   "source": []
  },
  {
   "cell_type": "markdown",
   "metadata": {},
   "source": [
    "\n",
    "6. Jak najít společné (stejné) hodnoty mezi dvěma poli? \n"
   ]
  },
  {
   "cell_type": "code",
   "execution_count": null,
   "metadata": {},
   "outputs": [],
   "source": []
  },
  {
   "cell_type": "markdown",
   "metadata": {},
   "source": [
    "\n",
    "7. Jak vypočítat ((A+B)*(-A/2)) přímo v poli (bez kopírování)?\n",
    "\n"
   ]
  },
  {
   "cell_type": "code",
   "execution_count": null,
   "metadata": {},
   "outputs": [],
   "source": []
  },
  {
   "cell_type": "markdown",
   "metadata": {},
   "source": [
    "\n",
    "8. Vytvořte náhodný vektor o velikosti 10 a seřaďte ho.\n"
   ]
  },
  {
   "cell_type": "code",
   "execution_count": null,
   "metadata": {},
   "outputs": [],
   "source": []
  },
  {
   "cell_type": "markdown",
   "metadata": {},
   "source": [
    "\n",
    "9. Vezměme daný vektor, jak přidat 1 ke každému prvku indexovanému druhým vektorem (dejte pozor na opakované indexy)? \n",
    "\n"
   ]
  },
  {
   "cell_type": "code",
   "execution_count": null,
   "metadata": {},
   "outputs": [],
   "source": []
  }
 ],
 "metadata": {
  "kernelspec": {
   "display_name": "Python 3",
   "language": "python",
   "name": "python3"
  },
  "language_info": {
   "codemirror_mode": {
    "name": "ipython",
    "version": 3
   },
   "file_extension": ".py",
   "mimetype": "text/x-python",
   "name": "python",
   "nbconvert_exporter": "python",
   "pygments_lexer": "ipython3",
   "version": "3.10.12"
  },
  "orig_nbformat": 4,
  "vscode": {
   "interpreter": {
    "hash": "e7370f93d1d0cde622a1f8e1c04877d8463912d04d973331ad4851f04de6915a"
   }
  }
 },
 "nbformat": 4,
 "nbformat_minor": 2
}
