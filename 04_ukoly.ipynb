{
 "cells": [
  {
   "attachments": {},
   "cell_type": "markdown",
   "metadata": {},
   "source": [
    "# Prostory jmen a obor platnosti proměnných:\n"
   ]
  },
  {
   "cell_type": "markdown",
   "metadata": {},
   "source": [
    "1. Rozhodněte co se vypíše a otestujte:\n",
    "\n",
    "    ```python\n",
    "    def foo():\n",
    "        global x\n",
    "        x = 20\n",
    "\n",
    "    x = 10\n",
    "    print(x)\n",
    "    foo()\n",
    "    print(x)\n",
    "    ```\n"
   ]
  },
  {
   "cell_type": "code",
   "execution_count": 1,
   "metadata": {},
   "outputs": [
    {
     "name": "stdout",
     "output_type": "stream",
     "text": [
      "10\n",
      "20\n"
     ]
    }
   ],
   "source": [
    "def foo():\n",
    "    global x\n",
    "    x = 20\n",
    "\n",
    "x = 10\n",
    "print(x)\n",
    "foo()\n",
    "print(x)"
   ]
  },
  {
   "cell_type": "markdown",
   "metadata": {},
   "source": [
    "\n",
    "2. Rozhodněte co se vypíše a otestujte:\n",
    "\n",
    "    ```python\n",
    "    def foo():\n",
    "        y = 30\n",
    "        print(y)\n",
    "\n",
    "    y = 20\n",
    "    foo()\n",
    "    print(y)\n",
    "    ```\n"
   ]
  },
  {
   "cell_type": "code",
   "execution_count": 2,
   "metadata": {},
   "outputs": [
    {
     "name": "stdout",
     "output_type": "stream",
     "text": [
      "30\n",
      "20\n"
     ]
    }
   ],
   "source": [
    "def foo():\n",
    "    y = 30\n",
    "    print(y)\n",
    "\n",
    "y = 20\n",
    "foo()\n",
    "print(y)"
   ]
  },
  {
   "cell_type": "markdown",
   "metadata": {},
   "source": [
    "\n",
    "3. Rozhodněte co se vypíše a otestujte:\n",
    "\n",
    "    ```python\n",
    "    def foo1():\n",
    "        def foo2():\n",
    "            nonlocal z\n",
    "            z = 100\n",
    "        z = 50\n",
    "        print(z)  # Vytiskne 50\n",
    "        foo2()\n",
    "        print(z)  # Vytiskne 100? Nebo 50?\n",
    "\n",
    "    foo1()\n",
    "    ```\n"
   ]
  },
  {
   "cell_type": "code",
   "execution_count": 3,
   "metadata": {},
   "outputs": [
    {
     "name": "stdout",
     "output_type": "stream",
     "text": [
      "50\n",
      "100\n"
     ]
    }
   ],
   "source": [
    "def foo1():\n",
    "    def foo2():\n",
    "        nonlocal z\n",
    "        z = 100\n",
    "    z = 50\n",
    "    print(z)\n",
    "    foo2()\n",
    "    print(z)\n",
    "\n",
    "foo1()"
   ]
  },
  {
   "cell_type": "markdown",
   "metadata": {},
   "source": [
    "\n",
    "4. Rozhodněte co se vypíše a otestujte:\n",
    "\n",
    "    ```python\n",
    "    x = 1\n",
    "    def foo1():\n",
    "        x = 2\n",
    "        def foo2():\n",
    "            global x\n",
    "            x = 3\n",
    "        print(x)\n",
    "        foo2()\n",
    "        print(x)\n",
    "\n",
    "    foo1()\n",
    "    print(x)\n",
    "    ```\n"
   ]
  },
  {
   "cell_type": "code",
   "execution_count": 4,
   "metadata": {},
   "outputs": [
    {
     "name": "stdout",
     "output_type": "stream",
     "text": [
      "2\n",
      "2\n",
      "3\n"
     ]
    }
   ],
   "source": [
    "x = 1\n",
    "def foo1():\n",
    "    x = 2\n",
    "    def foo2():\n",
    "        global x\n",
    "        x = 3\n",
    "    print(x)\n",
    "    foo2()\n",
    "    print(x)\n",
    "\n",
    "foo1()\n",
    "print(x)"
   ]
  },
  {
   "cell_type": "markdown",
   "metadata": {},
   "source": [
    "\n",
    "5. Rozhodněte co se vypíše a otestujte:\n",
    "\n",
    "    ```python\n",
    "    def foo1(a):\n",
    "        a = 40\n",
    "        print(a)\n",
    "\n",
    "    a = 30\n",
    "    foo1(a)\n",
    "    print(a)\n",
    "    ```\n"
   ]
  },
  {
   "cell_type": "code",
   "execution_count": 5,
   "metadata": {},
   "outputs": [
    {
     "name": "stdout",
     "output_type": "stream",
     "text": [
      "40\n",
      "30\n"
     ]
    }
   ],
   "source": [
    "def foo1(a):\n",
    "    a = 40\n",
    "    print(a)\n",
    "\n",
    "a = 30\n",
    "foo1(a)\n",
    "print(a)"
   ]
  },
  {
   "cell_type": "markdown",
   "metadata": {},
   "source": [
    "6. Rozhodněte co se vypíše a otestujte:\n",
    "\n",
    "    ```python\n",
    "    def funkce():\n",
    "        x = 10\n",
    "\n",
    "    x = 5\n",
    "\n",
    "    print(x)\n",
    "\n",
    "    funkce()\n",
    "\n",
    "    print(x)\n",
    "    ```\n"
   ]
  },
  {
   "cell_type": "code",
   "execution_count": 6,
   "metadata": {},
   "outputs": [
    {
     "name": "stdout",
     "output_type": "stream",
     "text": [
      "5\n",
      "5\n"
     ]
    }
   ],
   "source": [
    "def funkce():\n",
    "    x = 10\n",
    "\n",
    "x = 5\n",
    "print(x)\n",
    "funkce()\n",
    "print(x)"
   ]
  },
  {
   "cell_type": "markdown",
   "metadata": {},
   "source": [
    "\n",
    "7. Rozhodněte co se vypíše a otestujte:\n",
    "\n",
    "    ```python\n",
    "    x = 5\n",
    "\n",
    "    def vnejsi_funkce():\n",
    "        x = 10\n",
    "\n",
    "        def vnitrni_funkce():\n",
    "            print(x)\n",
    "\n",
    "        vnitrni_funkce()\n",
    "\n",
    "    vnejsi_funkce()\n",
    "    ```\n"
   ]
  },
  {
   "cell_type": "code",
   "execution_count": 7,
   "metadata": {},
   "outputs": [
    {
     "name": "stdout",
     "output_type": "stream",
     "text": [
      "10\n"
     ]
    }
   ],
   "source": [
    "x = 5\n",
    "\n",
    "def vonkajsiaFunkcia():\n",
    "    x = 10\n",
    "    def vnutornaFunkcia():\n",
    "        print(x)\n",
    "    \n",
    "    vnutornaFunkcia()\n",
    "\n",
    "vonkajsiaFunkcia()"
   ]
  },
  {
   "cell_type": "markdown",
   "metadata": {},
   "source": [
    "\n",
    "8. Rozhodněte co se vypíše a otestujte:\n",
    "\n",
    "    ```python\n",
    "    x = 10\n",
    "\n",
    "    def funkce():\n",
    "        x += 1\n",
    "\n",
    "    funkce()\n",
    "\n",
    "    print(x)\n",
    "    ```"
   ]
  },
  {
   "cell_type": "code",
   "execution_count": 14,
   "metadata": {},
   "outputs": [
    {
     "name": "stdout",
     "output_type": "stream",
     "text": [
      "11\n"
     ]
    }
   ],
   "source": [
    "x = 10\n",
    "def funkcia():\n",
    "    #global x\n",
    "    x += 1\n",
    "\n",
    "funkcia()\n",
    "\n",
    "print(x)\n"
   ]
  },
  {
   "cell_type": "markdown",
   "metadata": {},
   "source": [
    "\n",
    "9. Rozhodněte co se vypíše a otestujte:\n",
    "\n",
    "    ```python\n",
    "    x = 1\n",
    "    def foo4():\n",
    "        global x\n",
    "        x = 2\n",
    "        def vnitrni():\n",
    "            nonlocal x\n",
    "            x = 3\n",
    "        print(x)\n",
    "        vnitrni()\n",
    "        print(x)\n",
    "\n",
    "    print(x)\n",
    "    foo4()\n",
    "    print(x)\n",
    "    ```"
   ]
  },
  {
   "cell_type": "code",
   "execution_count": 16,
   "metadata": {},
   "outputs": [
    {
     "name": "stdout",
     "output_type": "stream",
     "text": [
      "1\n",
      "2\n",
      "3\n",
      "3\n"
     ]
    }
   ],
   "source": [
    "x = 1\n",
    "def foo4():\n",
    "    global x\n",
    "    x = 2\n",
    "    def vnutorna():\n",
    "        #nonlocal x\n",
    "        global x\n",
    "        x = 3\n",
    "    print(x)\n",
    "    vnutorna()\n",
    "    print(x)\n",
    "\n",
    "print(x)\n",
    "foo4()\n",
    "print(x)\n",
    "    "
   ]
  },
  {
   "cell_type": "markdown",
   "metadata": {},
   "source": [
    "\n",
    "10. Upravte funkci nalézající prvočísla tak, aby ukládala již spočítané prvočísla do listu v defaultním argumentu funkce. \n",
    "\n",
    "- Tedy, při volání funkce zkontroluje list prvočísel, které už byly spočítány a případně dopočítá další prvočísla, pokud to požadovaný počet vyžaduje.\n",
    "- Vrátí vždy **kopii** části listu prvočísel, která odpovídá požadovanému počtu prvočísel."
   ]
  },
  {
   "cell_type": "code",
   "execution_count": 15,
   "metadata": {},
   "outputs": [
    {
     "name": "stdout",
     "output_type": "stream",
     "text": [
      "[2, 3, 5, 7, 11]\n",
      "[2, 3, 5, 7, 11, 13, 17, 19, 23, 29]\n",
      "[2, 3, 5, 7, 11, 13, 17, 19, 23, 29, 31, 37, 41, 43, 47]\n",
      "[2, 3, 5, 7, 11, 13, 17, 19, 23, 29, 31, 37, 41, 43, 47, 53, 59, 61, 67, 71]\n",
      "[2, 3, 5, 7, 11, 13, 17, 19, 23, 29, 31, 37, 41, 43, 47, 53, 59, 61, 67, 71]\n",
      "[2, 3, 5, 7, 11, 13, 17, 19, 23, 29, 31, 37, 41, 43, 47]\n",
      "[2, 3, 5, 7, 11, 13, 17, 19, 23, 29]\n",
      "[2, 3, 5, 7, 11]\n"
     ]
    }
   ],
   "source": [
    "def najdi_n_prvocisel(n, prvocisla = []):\n",
    "    if(len(prvocisla) == 0):\n",
    "        num = 2\n",
    "    else:\n",
    "        num = prvocisla[-1] + 1\n",
    "    while(len(prvocisla) < n):\n",
    "        je_prvocislo = True\n",
    "        for prvocislo in prvocisla:\n",
    "            if (num%prvocislo == 0):\n",
    "                je_prvocislo = False\n",
    "                break\n",
    "        if(je_prvocislo):\n",
    "            prvocisla.append(num)\n",
    "        num += 1\n",
    "    return prvocisla[:n]\n",
    "\n",
    "for i in range(5,25,5):\n",
    "    ls = najdi_n_prvocisel(i)\n",
    "    print(ls)\n",
    "\n",
    "for i in range(20,0,-5):\n",
    "    ls = najdi_n_prvocisel(i)\n",
    "    print(ls)\n",
    "\n"
   ]
  },
  {
   "cell_type": "code",
   "execution_count": null,
   "metadata": {},
   "outputs": [],
   "source": []
  },
  {
   "cell_type": "markdown",
   "metadata": {},
   "source": [
    "# Třídy:"
   ]
  },
  {
   "cell_type": "markdown",
   "metadata": {},
   "source": [
    "1. Vytvořte funkci, která pro libovolný vstupní objekt vypíše název jeho třídy (použijte atribut `__class__` a atribut `__name__`, který má automaticky každá třída)."
   ]
  },
  {
   "cell_type": "code",
   "execution_count": 3,
   "metadata": {},
   "outputs": [
    {
     "name": "stdout",
     "output_type": "stream",
     "text": [
      "int\n",
      "SomeClass\n"
     ]
    }
   ],
   "source": [
    "def getObjName(obj):\n",
    "    print((obj.__class__).__name__)\n",
    "\n",
    "num = 5\n",
    "\n",
    "class SomeClass():\n",
    "    def __init__(self):\n",
    "        pass\n",
    "    def meth(self):\n",
    "        print(\"meth1\")\n",
    "\n",
    "c = SomeClass()\n",
    "\n",
    "getObjName(num)\n",
    "getObjName(c)"
   ]
  },
  {
   "cell_type": "markdown",
   "metadata": {},
   "source": [
    "2. Vytvořte třídu implementující metodu `__call__`, která bude mít stejnou funkčnost jako funkce pro vypisování prvních `n` prvočísel (s ukládáním do defaultního argumentu)."
   ]
  },
  {
   "cell_type": "code",
   "execution_count": 4,
   "metadata": {},
   "outputs": [
    {
     "name": "stdout",
     "output_type": "stream",
     "text": [
      "[2, 3, 5, 7, 11]\n",
      "[2, 3, 5, 7, 11, 13, 17, 19, 23, 29]\n",
      "[2, 3, 5, 7, 11, 13, 17, 19, 23, 29, 31, 37, 41, 43, 47]\n",
      "[2, 3, 5, 7, 11, 13, 17, 19, 23, 29, 31, 37, 41, 43, 47, 53, 59, 61, 67, 71]\n"
     ]
    }
   ],
   "source": [
    "class N_Primes():\n",
    "    def __init__(self):\n",
    "        self.primes = []\n",
    "        self.indx = 0\n",
    "    def __call__(self, n):\n",
    "        if(len(self.primes) == 0):\n",
    "            num = 2\n",
    "        else:\n",
    "            num = self.primes[-1] + 1\n",
    "        while(len(self.primes)  < n):\n",
    "            isPrime = True\n",
    "            for prime in self.primes:\n",
    "                if(num%prime == 0):\n",
    "                    isPrime = False\n",
    "                    break\n",
    "            if(isPrime):\n",
    "                self.primes.append(num)\n",
    "            num += 1\n",
    "        return self.primes[:n]\n",
    "\n",
    "findPrimes = N_Primes()\n",
    "for i in range(5,25,5):\n",
    "    print(findPrimes(i))"
   ]
  },
  {
   "cell_type": "markdown",
   "metadata": {},
   "source": [
    "3. Modifikujte třídu o implementaci metody `__getitem__`, která bude vracet prvočísla podle indexu (podporující jak celočíselné indexy, tak i indexy ve formě `slice`).\n",
    "\n",
    "- bude se vám hodit `isinstance` pro rozhodnutí zda je vstupní argument `slice` nebo `int`.\n",
    "- bude se vám hodit, že objekt typu `slice` má atributy `start`, `stop` a `step`."
   ]
  },
  {
   "cell_type": "code",
   "execution_count": 7,
   "metadata": {},
   "outputs": [
    {
     "name": "stdout",
     "output_type": "stream",
     "text": [
      "11\n",
      "[2, 3, 5, 7, 11]\n"
     ]
    }
   ],
   "source": [
    "class N_Primes():\n",
    "    def __init__(self):\n",
    "        self.primes = []\n",
    "        self.indx = 0\n",
    "    def __call__(self, n):\n",
    "        if(len(self.primes) == 0):\n",
    "            num = 2\n",
    "        else:\n",
    "            num = self.primes[-1] + 1\n",
    "        while(len(self.primes)  < n):\n",
    "            isPrime = True\n",
    "            for prime in self.primes:\n",
    "                if(num%prime == 0):\n",
    "                    isPrime = False\n",
    "                    break\n",
    "            if(isPrime):\n",
    "                self.primes.append(num)\n",
    "            num += 1\n",
    "        return self.primes[:n]\n",
    "    def __getitem__(self, subscript):\n",
    "        if(isinstance(subscript, slice)):\n",
    "            return self.primes[subscript.start : subscript.stop : subscript.step]\n",
    "        elif(isinstance(subscript, int)):\n",
    "            return self.primes[subscript]\n",
    "\n",
    "findPrimes = N_Primes()\n",
    "findPrimes(20)\n",
    "print(findPrimes[4])\n",
    "print(findPrimes[:5])"
   ]
  },
  {
   "cell_type": "markdown",
   "metadata": {},
   "source": [
    "4. Vytvořte třídu `Zlomek` reprezentující zlomek s celočíselným čitatelem a jmenovatelem. \n",
    "\n",
    "- Implementujte metody pro sčítání, odčítání, násobení a dělení zlomků. \n",
    "- Implementujte metodu pro zjednodušení zlomku (použijte knihovnu `math` a funkci `gcd`) a přidejte ji do konstruktoru.\n",
    "- Implementujte metody pro výpis zlomku jak do konzole, tak do řetězce.\n",
    "- Implementujte metodu pro převedení zlomku na desetinné číslo.\n",
    "- Implementujte metodu pro porovnávání zlomků (můžete použít převod na desetinné číslo).\n",
    "\n",
    "```python\n",
    "class Zlomek:\n",
    "    def __init__(self, citatel, jmenovatel):\n",
    "    def __add__(self, other):\n",
    "    def __sub__(self, other):\n",
    "    def __mul__(self, other):\n",
    "    def __truediv__(self, other):\n",
    "    def simplify(self):\n",
    "    def __str__(self):\n",
    "    def __repr__(self):\n",
    "    def to_float(self):\n",
    "    def __le__(self, other):\n",
    "    def __lt__(self, other):\n",
    "    def __ge__(self, other):\n",
    "    def __gt__(self, other):\n",
    "    def __eq__(self, other):\n",
    "```"
   ]
  },
  {
   "cell_type": "code",
   "execution_count": 9,
   "metadata": {},
   "outputs": [
    {
     "name": "stdout",
     "output_type": "stream",
     "text": [
      "11/10\n",
      "3/10\n",
      "1/10\n",
      "5/6\n",
      "0.6\n",
      "True\n"
     ]
    }
   ],
   "source": [
    "import math\n",
    "\n",
    "class Fraction():\n",
    "    def __init__(self, numerator, denominator):\n",
    "        self.numerator = numerator\n",
    "        self.denominator = denominator\n",
    "        self.simplify()        \n",
    "    def __str__(self):\n",
    "        return str(f\"{self.numerator:d}/{self.denominator:d}\")\n",
    "    def __repr__(self):\n",
    "        return f\"Class Fraction. Value = {self.numerator}/{self.denominator}\\n\"\n",
    "    def __add__(self, other):\n",
    "        return Fraction(( (self.numerator)*(other.denominator) + (other.numerator)*(self.denominator) ), ( (self.denominator)*(other.denominator) ))\n",
    "    def __sub__(self, other):\n",
    "        return Fraction( ((self.numerator)*(other.denominator) - (other.numerator)*(self.denominator)), ((self.denominator)*(other.denominator)) )\n",
    "    def __mul__(self, other):\n",
    "        return Fraction( ((self.numerator)*(other.numerator)) , ((self.denominator)*(other.denominator)) )\n",
    "    def __truediv__(self, other):\n",
    "        return Fraction( ((self.numerator)*(other.denominator)) , ((self.denominator)*(other.numerator)) )\n",
    "    def simplify(self):\n",
    "        gcd = math.gcd(self.numerator, self.denominator)\n",
    "        self.numerator = int(self.numerator/gcd)\n",
    "        self.denominator = int(self.denominator/gcd)\n",
    "    def to_float(self):\n",
    "        return float(self.numerator/self.denominator)\n",
    "    def __eq__(self, other):\n",
    "        return ( self.to_float() == other.to_float() )\n",
    "    def __le__(self, other):\n",
    "        return ( self.to_float() <= other.to_float() )\n",
    "    def __lt__(self, other):\n",
    "        return ( self.to_float() < other.to_float() )\n",
    "    def __ge__(self, other):\n",
    "        return ( self.to_float() >= other.to_float() )\n",
    "    def __gt__(self, other):\n",
    "        return ( self.to_float() > other.to_float() )\n",
    "    \n",
    "f1 = Fraction(1,2)\n",
    "f2 = Fraction(3,5)\n",
    "print(f1+f2)\n",
    "print(f1*f2)\n",
    "print(f2-f1)\n",
    "print(f1/f2)\n",
    "print(f2.to_float())\n",
    "print(f1<f2)\n"
   ]
  }
 ],
 "metadata": {
  "kernelspec": {
   "display_name": "Python 3",
   "language": "python",
   "name": "python3"
  },
  "language_info": {
   "codemirror_mode": {
    "name": "ipython",
    "version": 3
   },
   "file_extension": ".py",
   "mimetype": "text/x-python",
   "name": "python",
   "nbconvert_exporter": "python",
   "pygments_lexer": "ipython3",
   "version": "3.10.12"
  },
  "orig_nbformat": 4,
  "vscode": {
   "interpreter": {
    "hash": "e7370f93d1d0cde622a1f8e1c04877d8463912d04d973331ad4851f04de6915a"
   }
  }
 },
 "nbformat": 4,
 "nbformat_minor": 2
}
