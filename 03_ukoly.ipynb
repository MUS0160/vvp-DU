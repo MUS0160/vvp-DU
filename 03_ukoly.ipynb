{
 "cells": [
  {
   "cell_type": "markdown",
   "metadata": {},
   "source": [
    "# Lambda funkce a řízení toku programu\n",
    "\n",
    "\n",
    "**1. Lambda funkce:**\n",
    "\n",
    "Napište lambda funkci, která spočítá součin dvou čísel.\n"
   ]
  },
  {
   "cell_type": "code",
   "execution_count": 2,
   "metadata": {},
   "outputs": [
    {
     "name": "stdout",
     "output_type": "stream",
     "text": [
      "3\n"
     ]
    }
   ],
   "source": [
    "sumF = lambda x,y: x+y\n",
    "print(sumF(1,2))"
   ]
  },
  {
   "cell_type": "markdown",
   "metadata": {},
   "source": [
    "\n",
    "**2. Lambda funkce a ternární operátor:**\n",
    "\n",
    "Napište lambda funkci, která vrátí \"sudé\" pro sudá čísla a \"liché\" pro lichá čísla.\n"
   ]
  },
  {
   "cell_type": "code",
   "execution_count": 5,
   "metadata": {},
   "outputs": [
    {
     "name": "stdout",
     "output_type": "stream",
     "text": [
      "liche\n"
     ]
    }
   ],
   "source": [
    "sl = lambda x : \"sude\" if x%2 == 0 else \"liche\"\n",
    "print(sl(3))"
   ]
  },
  {
   "cell_type": "markdown",
   "metadata": {},
   "source": [
    "\n",
    "**3. Rekurze:**\n",
    "\n",
    "Napište lambda funkci pro výpočet součtu 1 až n (n je vstupem).\n"
   ]
  },
  {
   "cell_type": "code",
   "execution_count": 9,
   "metadata": {},
   "outputs": [
    {
     "name": "stdout",
     "output_type": "stream",
     "text": [
      "55\n"
     ]
    }
   ],
   "source": [
    "sum = lambda x: x if x==1 else x+sum(x-1)\n",
    "print(sum(10))"
   ]
  },
  {
   "cell_type": "markdown",
   "metadata": {},
   "source": [
    "\n",
    "**4. For cyklus, enumerate:**\n",
    "\n",
    "Vypište postupně všechna písmena řetězce \"Ahoj světe!\" a jejich pozici v řetězci.\n"
   ]
  },
  {
   "cell_type": "code",
   "execution_count": 11,
   "metadata": {},
   "outputs": [
    {
     "name": "stdout",
     "output_type": "stream",
     "text": [
      "A 0\n",
      "h 1\n",
      "o 2\n",
      "j 3\n",
      "  4\n",
      "s 5\n",
      "v 6\n",
      "e 7\n",
      "t 8\n",
      "e 9\n",
      "! 10\n"
     ]
    }
   ],
   "source": [
    "s = \"Ahoj svete!\"\n",
    "\n",
    "for pos, char in enumerate(s):\n",
    "    print(char, pos)"
   ]
  },
  {
   "cell_type": "markdown",
   "metadata": {},
   "source": [
    "\n",
    "**5. For cyklus s `break`:**\n",
    "\n",
    "Vypište první tři prvky seznamu `[1, 2, 3, 4, 5]`.\n"
   ]
  },
  {
   "cell_type": "code",
   "execution_count": 19,
   "metadata": {},
   "outputs": [
    {
     "name": "stdout",
     "output_type": "stream",
     "text": [
      "1\n",
      "2\n",
      "3\n"
     ]
    }
   ],
   "source": [
    "ls = [1, 2, 3, 4, 5]\n",
    "for indx, el in enumerate(ls):\n",
    "    if(indx == 3):\n",
    "        break\n",
    "    print(el)\n",
    "    "
   ]
  },
  {
   "cell_type": "markdown",
   "metadata": {},
   "source": [
    "\n",
    "**6. For cyklus s `else`:**\n",
    "\n",
    "Vypište první tři prvky seznamu, pokud je seznam o délce 3 a kratší, vypište na závěr \"Krátký seznam!\".\n",
    "\n",
    "Vyzkoušejte na  `[1, 2, 3, 4, 5]` a `[1, 2]`.\n"
   ]
  },
  {
   "cell_type": "code",
   "execution_count": 23,
   "metadata": {},
   "outputs": [
    {
     "name": "stdout",
     "output_type": "stream",
     "text": [
      "1\n",
      "2\n",
      "3\n"
     ]
    }
   ],
   "source": [
    "ls = [1, 2, 3, 4]\n",
    "for indx, el in enumerate(ls):\n",
    "    if(indx == 3):\n",
    "        break\n",
    "    print(el)\n",
    "else:\n",
    "    if(indx < 3):\n",
    "        print(\"Kratky seznam\")\n",
    "    "
   ]
  },
  {
   "cell_type": "markdown",
   "metadata": {},
   "source": [
    "\n",
    "**7. For cyklus s `continue`:**\n",
    "\n",
    "Vypište všechny sudá čísla ze seznamu `[1, 2, 3, 4, 5]`.\n"
   ]
  },
  {
   "cell_type": "code",
   "execution_count": 27,
   "metadata": {},
   "outputs": [
    {
     "name": "stdout",
     "output_type": "stream",
     "text": [
      "2\n",
      "4\n",
      "6\n",
      "8\n"
     ]
    }
   ],
   "source": [
    "ls = [1, 2, 3, 4, 5, 6, 7, 8]\n",
    "for num in ls:\n",
    "    if num%2 == 0:\n",
    "        print(num)\n"
   ]
  },
  {
   "cell_type": "markdown",
   "metadata": {},
   "source": [
    "\n",
    "**8. Krátce k iterovatelným objektům:**\n",
    "\n",
    "Uveďte 5 příkladů iterovatelných objektů (např. `string`, `list`, ...). Pomocí for cyklu vypište všechny prvky každého objektu.\n"
   ]
  },
  {
   "cell_type": "code",
   "execution_count": 52,
   "metadata": {},
   "outputs": [
    {
     "name": "stdout",
     "output_type": "stream",
     "text": [
      "1\n",
      "2\n",
      "3\n",
      "4\n",
      "5\n",
      "End of iterator\n"
     ]
    }
   ],
   "source": [
    "ls = [1, 2, 3, 4 , 5]\n",
    "\n",
    "ls_it = ls.__iter__()\n",
    "\n",
    "try:\n",
    "    while(True):\n",
    "        print(next(ls_it))\n",
    "except StopIteration:\n",
    "    print(\"End of container\")\n"
   ]
  },
  {
   "cell_type": "code",
   "execution_count": 53,
   "metadata": {},
   "outputs": [
    {
     "name": "stdout",
     "output_type": "stream",
     "text": [
      "1\n",
      "2\n",
      "3\n",
      "4\n",
      "5\n",
      "End of container\n"
     ]
    }
   ],
   "source": [
    "tp = (1, 2, 3, 4, 5)\n",
    "tp_it = tp.__iter__()\n",
    "\n",
    "try:\n",
    "    while(True):\n",
    "        print(next(tp_it))\n",
    "except StopIteration:\n",
    "    print(\"End of container\")"
   ]
  },
  {
   "cell_type": "code",
   "execution_count": 55,
   "metadata": {},
   "outputs": [
    {
     "name": "stdout",
     "output_type": "stream",
     "text": [
      "a\n",
      "b\n",
      "c\n",
      "d\n",
      "e\n",
      "End of container\n"
     ]
    }
   ],
   "source": [
    "dc = {1:\"a\", 2:\"b\", 3:\"c\", 4:\"d\", 5:\"e\", }\n",
    "dc_it = dc.__iter__()\n",
    "\n",
    "try:\n",
    "    while(True):\n",
    "        print(dc[next(dc_it)])\n",
    "except StopIteration:\n",
    "    print(\"End of container\")"
   ]
  },
  {
   "cell_type": "code",
   "execution_count": 56,
   "metadata": {},
   "outputs": [
    {
     "name": "stdout",
     "output_type": "stream",
     "text": [
      "e\n",
      "d\n",
      "b\n",
      "c\n",
      "a\n",
      "End of container\n"
     ]
    }
   ],
   "source": [
    "st = {\"a\", \"b\", \"c\", \"d\", \"e\"}\n",
    "st_it = st.__iter__()\n",
    "\n",
    "try:\n",
    "    while(True):\n",
    "        print(next(st_it))\n",
    "except StopIteration:\n",
    "    print(\"End of container\")"
   ]
  },
  {
   "cell_type": "code",
   "execution_count": 57,
   "metadata": {},
   "outputs": [
    {
     "name": "stdout",
     "output_type": "stream",
     "text": [
      "H\n",
      "e\n",
      "l\n",
      "l\n",
      "o\n",
      " \n",
      "w\n",
      "o\n",
      "r\n",
      "l\n",
      "d\n",
      "End of container\n"
     ]
    }
   ],
   "source": [
    "s = \"Hello world\"\n",
    "s_it = iter(s)\n",
    "\n",
    "try:\n",
    "    while(True):\n",
    "        print(next(s_it))\n",
    "except StopIteration:\n",
    "    print(\"End of container\")"
   ]
  },
  {
   "cell_type": "markdown",
   "metadata": {},
   "source": [
    "\n",
    "**9. Iterování přes slovník:**\n",
    "\n",
    "Pro slovník `{'a': 1, 'b': 2, 'c': 3}` vypište vždy na řádek klíč a hodnotu. (Použijte metodu `items`.)"
   ]
  },
  {
   "cell_type": "code",
   "execution_count": 64,
   "metadata": {},
   "outputs": [
    {
     "name": "stdout",
     "output_type": "stream",
     "text": [
      "a 1\n",
      "b 2\n",
      "c 3\n"
     ]
    }
   ],
   "source": [
    "dc = {\"a\":1, \"b\":2, \"c\":3}\n",
    "for k,v in dc.items():\n",
    "    print(k,v)\n"
   ]
  },
  {
   "cell_type": "markdown",
   "metadata": {},
   "source": [
    "\n",
    "**10. Zip:**\n",
    "\n",
    "Zabalte seznamy `[\"a\", \"b\", \"c\"]` a `[1, 2, 3]` do jednoho iterátoru pomocí funkce `zip` a vypište všechny dvojice.\n"
   ]
  },
  {
   "cell_type": "code",
   "execution_count": 66,
   "metadata": {},
   "outputs": [
    {
     "name": "stdout",
     "output_type": "stream",
     "text": [
      "('a', 1)\n",
      "('b', 2)\n",
      "('c', 3)\n"
     ]
    }
   ],
   "source": [
    "ls1 = [\"a\", \"b\", \"c\"]\n",
    "ls2 = [1, 2, 3]\n",
    "for el in zip(ls1, ls2):\n",
    "    print(el)"
   ]
  },
  {
   "cell_type": "markdown",
   "metadata": {},
   "source": [
    "\n",
    "**11. While cyklus:**\n",
    "\n",
    "Při počátečním vkladu 10000 Kč, roční úrokové sazbě 9 % (peníze vždy přibydou na konci roku) a ročním vkladu 1000 Kč (vkládáme vždy na začátku roku, počínaje hned prvním, tedy ze začátku dáme na účet 11000 Kč), kolik let bude trvat, než budeme mít na učtě milion Kč? "
   ]
  },
  {
   "cell_type": "code",
   "execution_count": 68,
   "metadata": {},
   "outputs": [
    {
     "name": "stdout",
     "output_type": "stream",
     "text": [
      "Accumulated sum greater than 1,000,000 was reached after 53 years of saving. Actual value on the account is 1,059,247.\n"
     ]
    }
   ],
   "source": [
    "def actualVal (initVal = 10000, interestRate = 0.09, annualDeposit = 1000, targetSum = 1000000):\n",
    "    actVal = initVal + annualDeposit\n",
    "    years = 0\n",
    "    while(actVal < targetSum):\n",
    "        actVal += (interestRate)*actVal\n",
    "        years += 1\n",
    "    return (years, actVal)\n",
    "\n",
    "years, val = actualVal()\n",
    "print(f\"Accumulated sum greater than {1_000_000:,} was reached after {years} years of saving. Actual value on the account is {val:,.0f}.\")"
   ]
  },
  {
   "cell_type": "markdown",
   "metadata": {},
   "source": [
    "\n",
    "# Generátory a iterátory:\n",
    "\n",
    "1. Napište generátor (funkci), který vytváří Fibonacciho posloupnost a postupně vrátí prvních $n$ členů. Otestujte pomocí for cyklu.\n"
   ]
  },
  {
   "cell_type": "code",
   "execution_count": 69,
   "metadata": {},
   "outputs": [
    {
     "name": "stdout",
     "output_type": "stream",
     "text": [
      "0\n",
      "1\n",
      "1\n",
      "2\n",
      "3\n",
      "5\n",
      "8\n",
      "13\n",
      "21\n",
      "34\n"
     ]
    }
   ],
   "source": [
    "def genFib(n):\n",
    "    lv1 = 0\n",
    "    lv2 = 0\n",
    "    retVal = 0\n",
    "    for i in range(0,n):\n",
    "        if (i==0):\n",
    "            yield 0\n",
    "        elif(i == 1):\n",
    "            lv2 = i\n",
    "            yield 1\n",
    "        else:\n",
    "            retVal = lv1 + lv2\n",
    "            lv1 = lv2\n",
    "            lv2 = retVal\n",
    "            yield retVal\n",
    "\n",
    "n = 10\n",
    "g = genFib(n)\n",
    "for i in range(n):\n",
    "    print(next(g))"
   ]
  },
  {
   "cell_type": "markdown",
   "metadata": {},
   "source": [
    "2. Napište generátor výraz, který bude vracet všechny sudá čísla menší než 100. Otestujte pomocí for cyklu."
   ]
  },
  {
   "cell_type": "code",
   "execution_count": null,
   "metadata": {},
   "outputs": [],
   "source": [
    "genEven = (num for num in range(1,100) if num%2 == 0)\n",
    "for i in range(49):\n",
    "    print(next(genEven))"
   ]
  },
  {
   "cell_type": "markdown",
   "metadata": {},
   "source": [
    "3. Pro dané číslo `n` vytvořte generátor, který bude vracet True/False hodnoty, zda je dělitelné postupně čísly od `2` do `n-1`. Otestujte pro několik čísel, pomocí funkce `all()` přičemž by výsledný výraz měl fungovat jako test prvočíselnosti. "
   ]
  },
  {
   "cell_type": "code",
   "execution_count": 97,
   "metadata": {},
   "outputs": [
    {
     "name": "stdout",
     "output_type": "stream",
     "text": [
      "12 is divisible by 2:  True\n",
      "12 is divisible by 3:  True\n",
      "12 is divisible by 4:  True\n",
      "12 is divisible by 5:  False\n",
      "12 is divisible by 6:  True\n",
      "12 is divisible by 7:  False\n",
      "12 is divisible by 8:  False\n",
      "12 is divisible by 9:  False\n",
      "12 is divisible by 10:  False\n",
      "12 is divisible by 11:  False\n",
      "12 is not a prime.\n"
     ]
    },
    {
     "data": {
      "text/plain": [
       "False"
      ]
     },
     "execution_count": 97,
     "metadata": {},
     "output_type": "execute_result"
    }
   ],
   "source": [
    "def genDiv(n):\n",
    "    for div in range(2,n):\n",
    "        if(n%div == 0):\n",
    "            yield True\n",
    "        else:\n",
    "            yield False\n",
    "\n",
    "def genNotDiv(n):\n",
    "    for div in range(2,n):\n",
    "        if(n%div == 0):\n",
    "            yield False\n",
    "        else:\n",
    "            yield True\n",
    "            \n",
    "def isPrime(n):\n",
    "    g = genNotDiv(n)\n",
    "    if (all(g)):\n",
    "        print(f\"{n} is a prime.\")\n",
    "        return True\n",
    "    else:\n",
    "        print(f\"{n} is not a prime.\")\n",
    "        return False\n",
    "\n",
    "n = 12\n",
    "g = genDiv(n)\n",
    "for div in range(2,n):\n",
    "    print(f\"{n} is divisible by {div}: \", next(g) )\n",
    "\n",
    "isPrime(n)\n",
    "\n",
    "\n"
   ]
  },
  {
   "cell_type": "markdown",
   "metadata": {},
   "source": [
    "\n",
    "# List comprehension:\n",
    "1. Vytvořte seznam čísel od 1 do 10 pomocí list comprehension.\n"
   ]
  },
  {
   "cell_type": "code",
   "execution_count": 94,
   "metadata": {},
   "outputs": [
    {
     "name": "stdout",
     "output_type": "stream",
     "text": [
      "[1, 2, 3, 4, 5, 6, 7, 8, 9, 10]\n"
     ]
    }
   ],
   "source": [
    "print([num for num in range(1, 11)])"
   ]
  },
  {
   "cell_type": "markdown",
   "metadata": {},
   "source": [
    "2. Vytvořte seznam druhých mocnin čísel od 1 do 10 pomocí list comprehension.\n"
   ]
  },
  {
   "cell_type": "code",
   "execution_count": 95,
   "metadata": {},
   "outputs": [
    {
     "name": "stdout",
     "output_type": "stream",
     "text": [
      "[1, 4, 9, 16, 25, 36, 49, 64, 81, 100]\n"
     ]
    }
   ],
   "source": [
    "print([num*num for num in range(1, 11)])"
   ]
  },
  {
   "cell_type": "markdown",
   "metadata": {},
   "source": [
    "3. Vytvořte seznam prvočísel od 1 do 100 pomocí list comprehension. Hint (použijte test prvočíselnosti z předchozích úloh).\n"
   ]
  },
  {
   "cell_type": "code",
   "execution_count": 98,
   "metadata": {},
   "outputs": [
    {
     "name": "stdout",
     "output_type": "stream",
     "text": [
      "[2, 3, 5, 7, 11, 13, 17, 19, 23, 29, 31, 37, 41, 43, 47, 53, 59, 61, 67, 71, 73, 79, 83, 89, 97]\n"
     ]
    }
   ],
   "source": [
    "def isPrime(n):\n",
    "    g = genNotDiv(n)\n",
    "    if (all(g)):\n",
    "        return True\n",
    "    else:\n",
    "        return False\n",
    "\n",
    "print([num for num in range(2,100) if isPrime(num)])"
   ]
  },
  {
   "cell_type": "markdown",
   "metadata": {},
   "source": [
    "\n",
    "# Jupyter magics:\n",
    "1. Použijte funkci `%%writefile` a pomocí ní vytvořte .py soubor sloužící jako modul mající dvě funkce:\n",
    "\n",
    "```python\n",
    "def factorial_loop(n):\n",
    "    result = 1\n",
    "    for i in range(1, n + 1):\n",
    "        result *= i\n",
    "    return result\n",
    "\n",
    "def factorial_recursive(n):\n",
    "    if n == 1:\n",
    "        return 1\n",
    "    else:\n",
    "        return n * factorial_recursive(n - 1)\n",
    "```\n",
    "\n",
    "Modul pojmenujte `factorial.py`. Zkuste jej načíst a zavolat obě funkce."
   ]
  },
  {
   "cell_type": "code",
   "execution_count": 99,
   "metadata": {},
   "outputs": [
    {
     "name": "stdout",
     "output_type": "stream",
     "text": [
      "Writing factorial.py\n"
     ]
    }
   ],
   "source": [
    "%%writefile factorial.py\n",
    "\n",
    "def factorial_loop(n):\n",
    "    result = 1\n",
    "    for i in range(1, n+1):\n",
    "        result *= i\n",
    "    return result\n",
    "\n",
    "def factorial_recursive(n):\n",
    "    if n == 1:\n",
    "        return n\n",
    "    else:\n",
    "        return n*factorial_recursive(n-1)"
   ]
  },
  {
   "cell_type": "markdown",
   "metadata": {},
   "source": [
    "2. Použijte magic příkazy `%time %timeit %%time` a `%%timeit` k měření času běhu dvou variant výpočtu faktroriálu (např. pro `n=200`).\n"
   ]
  },
  {
   "cell_type": "code",
   "execution_count": 110,
   "metadata": {},
   "outputs": [
    {
     "name": "stdout",
     "output_type": "stream",
     "text": [
      "12.5 µs ± 607 ns per loop (mean ± std. dev. of 7 runs, 100000 loops each)\n",
      "25.6 µs ± 1.38 µs per loop (mean ± std. dev. of 7 runs, 10000 loops each)\n"
     ]
    }
   ],
   "source": [
    "import factorial\n",
    "\n",
    "n = 200\n",
    "%timeit factorial.factorial_loop(n)\n",
    "%timeit factorial.factorial_recursive(n)\n",
    "\n"
   ]
  },
  {
   "cell_type": "markdown",
   "metadata": {},
   "source": [
    "\n",
    "# Práce s řetězci:\n",
    "\n",
    "1. Použíjte funkce z minulého úkolu a v cyklu spočtěte faktoriál `n` pro hodnoty od 0 do 10. Pomocí f-strings vypište výsledky ve formátu \"n = 3, faktoriál = 6\" pro všechny hodnoty `n`.\n"
   ]
  },
  {
   "cell_type": "code",
   "execution_count": 118,
   "metadata": {},
   "outputs": [
    {
     "name": "stdout",
     "output_type": "stream",
     "text": [
      "n = 1    , faktorial =                    1 \n",
      "n = 2    , faktorial =                    2 \n",
      "n = 3    , faktorial =                    6 \n",
      "n = 4    , faktorial =                   24 \n",
      "n = 5    , faktorial =                  120 \n",
      "n = 6    , faktorial =                  720 \n",
      "n = 7    , faktorial =                 5040 \n",
      "n = 8    , faktorial =                40320 \n",
      "n = 9    , faktorial =               362880 \n",
      "n = 10   , faktorial =              3628800 \n"
     ]
    }
   ],
   "source": [
    "for n in range(1,11):\n",
    "    num = factorial.factorial_loop(n)\n",
    "    print(f\"n = {n:<5d}, faktorial = {num:>20d} \")"
   ]
  },
  {
   "cell_type": "markdown",
   "metadata": {},
   "source": [
    "2. Vytvořte funkci `je_palindrom` která bude testovat, zda je zadaný řetězec palindrom. Funkce bude vracet `True` pokud je řetězec palindrom a `False` pokud není. Funkci otestujte na několika příkladech."
   ]
  },
  {
   "cell_type": "code",
   "execution_count": 127,
   "metadata": {},
   "outputs": [
    {
     "name": "stdout",
     "output_type": "stream",
     "text": [
      "False\n",
      "True\n",
      "True\n"
     ]
    }
   ],
   "source": [
    "def isPalindrom(word):\n",
    "    if( (len(word) > 1) and (isPalindrom(word[1:-1])) ):\n",
    "        if (word[0] == word[-1]):\n",
    "            return True\n",
    "        else:\n",
    "            return False\n",
    "    else:\n",
    "        return True\n",
    "\n",
    "st1 = \"no palindrom\"\n",
    "st2 = \"abcdcba\"\n",
    "st3 = \"abcddcba\"\n",
    "\n",
    "print(isPalindrom(st1))\n",
    "print(isPalindrom(st2))\n",
    "print(isPalindrom(st3))"
   ]
  },
  {
   "cell_type": "markdown",
   "metadata": {},
   "source": [
    "3. Do proměnné uložte větu \"Python je nejlepší programovací jazyk\". \n",
    "    - převeďtě na \"nadpis\" (velká počáteční písmena ve všech slovech)\n",
    "    - nahraďte všechny mezery pomlčkou"
   ]
  },
  {
   "cell_type": "code",
   "execution_count": 129,
   "metadata": {},
   "outputs": [
    {
     "name": "stdout",
     "output_type": "stream",
     "text": [
      "Python Je Najlepsi Programovaci Jazyk\n",
      "Python-je-najlepsi-programovaci-jazyk\n"
     ]
    }
   ],
   "source": [
    "sent = \"Python je najlepsi programovaci jazyk\"\n",
    "print(sent.title())\n",
    "sent2 = sent.replace(\" \", \"-\")\n",
    "print(sent2)"
   ]
  },
  {
   "cell_type": "markdown",
   "metadata": {},
   "source": [
    "4. Pro stejný řetězec zjistěte, kolikrát se zde vyskytuje písmeno \"o\"."
   ]
  },
  {
   "cell_type": "code",
   "execution_count": 130,
   "metadata": {},
   "outputs": [
    {
     "name": "stdout",
     "output_type": "stream",
     "text": [
      "3\n"
     ]
    }
   ],
   "source": [
    "print(sent.count(\"o\"))"
   ]
  },
  {
   "cell_type": "markdown",
   "metadata": {},
   "source": [
    "5. Převeďte řetězec z bodu 4 na list slov."
   ]
  },
  {
   "cell_type": "code",
   "execution_count": 131,
   "metadata": {},
   "outputs": [
    {
     "name": "stdout",
     "output_type": "stream",
     "text": [
      "['Python', 'je', 'najlepsi', 'programovaci', 'jazyk']\n"
     ]
    }
   ],
   "source": [
    "words = sent.split(\" \")\n",
    "print(words)"
   ]
  },
  {
   "cell_type": "markdown",
   "metadata": {},
   "source": [
    "\n",
    "# Práce se soubory:\n",
    "1. Pomocí `%%writefile` vytvořte soubor s nějakým textem.\n"
   ]
  },
  {
   "cell_type": "code",
   "execution_count": 135,
   "metadata": {},
   "outputs": [
    {
     "name": "stdout",
     "output_type": "stream",
     "text": [
      "Overwriting text\n"
     ]
    }
   ],
   "source": [
    "%%writefile text\n",
    "\n",
    "Jupyter magics jsou speciální příkazy spustitelné v Jupyter notebooku, které umožňují využívat různé funkce mimo prostředí Pythonu. \n",
    "\n",
    "Jupyter magics se spouští pomocí prefixu `%` (pro jednořádkové magics) nebo `%%` (pro víceřádkové magics).\n",
    "\n",
    "Příkazů je obrovské množství, viz například [tento seznam](https://ipython.readthedocs.io/en/stable/interactive/magics.html). Zde si uvedeme pouze pár.\n",
    "\n",
    "Nápovědu (docstring) lze k magics získat pomocí `?` za příkazem.\n"
   ]
  },
  {
   "cell_type": "markdown",
   "metadata": {},
   "source": [
    "2. Otevřete soubor pro čtení a vypište jeho obsah.\n"
   ]
  },
  {
   "cell_type": "code",
   "execution_count": 137,
   "metadata": {},
   "outputs": [
    {
     "name": "stdout",
     "output_type": "stream",
     "text": [
      "\n",
      "Jupyter magics jsou speciální příkazy spustitelné v Jupyter notebooku, které umožňují využívat různé funkce mimo prostředí Pythonu. \n",
      "\n",
      "Jupyter magics se spouští pomocí prefixu `%` (pro jednořádkové magics) nebo `%%` (pro víceřádkové magics).\n",
      "\n",
      "Příkazů je obrovské množství, viz například [tento seznam](https://ipython.readthedocs.io/en/stable/interactive/magics.html). Zde si uvedeme pouze pár.\n",
      "\n",
      "Nápovědu (docstring) lze k magics získat pomocí `?` za příkazem.\n",
      "\n"
     ]
    }
   ],
   "source": [
    "with open(\"text\", \"r\") as file:\n",
    "    print(file.read())"
   ]
  },
  {
   "cell_type": "markdown",
   "metadata": {},
   "source": [
    "3. Otevřete jiný soubor pro zápis a napište do něj textový řetězec.\n"
   ]
  },
  {
   "cell_type": "code",
   "execution_count": 143,
   "metadata": {},
   "outputs": [
    {
     "name": "stdout",
     "output_type": "stream",
     "text": [
      "Jupyter magics jsou speciální příkazy spustitelné v Jupyter notebooku, které umožňují využívat různé funkce mimo prostředí Pythonu.\n",
      "\n",
      "Jupyter magics se spouští pomocí prefixu `%` (pro jednořádkové magics) nebo `%%` (pro víceřádkové magics).\n",
      "\n",
      "Příkazů je obrovské množství, viz například [tento seznam](https://ipython.readthedocs.io/en/stable/interactive/magics.html). Zde si uvedeme pouze pár.\n",
      "\n",
      "Nápovědu (docstring) lze k magics získat pomocí `?` za příkazem.\n"
     ]
    }
   ],
   "source": [
    "st = \"Jupyter magics jsou speciální příkazy spustitelné v Jupyter notebooku, které umožňují využívat různé funkce mimo prostředí Pythonu.\\n\\\n",
    "\\n\\\n",
    "Jupyter magics se spouští pomocí prefixu `%` (pro jednořádkové magics) nebo `%%` (pro víceřádkové magics).\\n\\\n",
    "\\n\\\n",
    "Příkazů je obrovské množství, viz například [tento seznam](https://ipython.readthedocs.io/en/stable/interactive/magics.html). Zde si uvedeme pouze pár.\\n\\\n",
    "\\n\\\n",
    "Nápovědu (docstring) lze k magics získat pomocí `?` za příkazem.\"\n",
    "\n",
    "with open(\"text2\", \"w\") as file:\n",
    "    file.write(st)\n",
    "    \n",
    "with open(\"text2\", \"r\") as file:\n",
    "    print(file.read())"
   ]
  },
  {
   "cell_type": "markdown",
   "metadata": {},
   "source": [
    "4. Pomocí f-strings zapište do souboru tabulku čísel od 1 do 10, jejich druhých mocnin a jejich druhých odmocnin."
   ]
  },
  {
   "cell_type": "code",
   "execution_count": 159,
   "metadata": {},
   "outputs": [
    {
     "name": "stdout",
     "output_type": "stream",
     "text": [
      "\n",
      "\n",
      "čislo,  2nd power,  square \n",
      "1         1                  1.00       \n",
      "2         4                  1.41       \n",
      "3         9                  1.73       \n",
      "4         16                 2.00       \n",
      "5         25                 2.24       \n",
      "6         36                 2.45       \n",
      "7         49                 2.65       \n",
      "8         64                 2.83       \n",
      "9         81                 3.00       \n",
      "\n"
     ]
    }
   ],
   "source": [
    "import math\n",
    "with open(\"text2\", \"w\") as file:\n",
    "    file.write(\"\\n\\nčislo,  2nd power,  square \\n\")\n",
    "    for i in range(1, 10):\n",
    "        file.write(f\"{i:<9} {i*i:<17}  {math.sqrt(i):<10.2f} \\n\")\n",
    "\n",
    "with open(\"text2\", \"r\") as file:\n",
    "    print(file.read())"
   ]
  }
 ],
 "metadata": {
  "kernelspec": {
   "display_name": "Python 3",
   "language": "python",
   "name": "python3"
  },
  "language_info": {
   "codemirror_mode": {
    "name": "ipython",
    "version": 3
   },
   "file_extension": ".py",
   "mimetype": "text/x-python",
   "name": "python",
   "nbconvert_exporter": "python",
   "pygments_lexer": "ipython3",
   "version": "3.10.12"
  },
  "orig_nbformat": 4,
  "vscode": {
   "interpreter": {
    "hash": "e7370f93d1d0cde622a1f8e1c04877d8463912d04d973331ad4851f04de6915a"
   }
  }
 },
 "nbformat": 4,
 "nbformat_minor": 2
}
